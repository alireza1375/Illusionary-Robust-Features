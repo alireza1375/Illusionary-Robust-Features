{
  "cells": [
    {
      "cell_type": "code",
      "execution_count": null,
      "metadata": {
        "id": "875c34b5-d24d-45b5-9870-17a3cd1c1d34"
      },
      "outputs": [],
      "source": [
        "classes = ['airplane', 'automobile', 'bird', 'cat', 'deer', 'dog', 'frog', 'horse', 'ship', 'truck']"
      ]
    },
    {
      "cell_type": "markdown",
      "metadata": {
        "collapsed": false,
        "id": "b9daf6b7-cdf8-4044-9a92-605bf2cce58a"
      },
      "source": [
        "Loading training and testing *set*"
      ]
    },
    {
      "cell_type": "code",
      "execution_count": null,
      "metadata": {
        "id": "8e630daf-68b4-4d24-ab1c-daebc709a023"
      },
      "outputs": [],
      "source": [
        "(training_images1, training_labels1) , (validation_images, validation_labels) = tf.keras.datasets.cifar10.load_data()"
      ]
    },
    {
      "cell_type": "markdown",
      "metadata": {
        "collapsed": false,
        "id": "8962ee35-948c-486e-8ef8-65af4a3cb4bf"
      },
      "source": [
        "Loading training and testing from robust dataset and preprocess"
      ]
    },
    {
      "cell_type": "code",
      "execution_count": null,
      "metadata": {
        "colab": {
          "base_uri": "https://localhost:8080/"
        },
        "id": "a45b2cd0-3d8e-43c9-8fb7-55947a1d7171",
        "outputId": "2dd796dc-503b-4875-f237-872d9b914616"
      },
      "outputs": [
        {
          "data": {
            "text/plain": [
              "torch.Size([50000, 3, 32, 32])"
            ]
          },
          "execution_count": 6,
          "metadata": {},
          "output_type": "execute_result"
        }
      ],
      "source": [
        "train_data = ch.cat(ch.load(os.path.join( f\"drive/MyDrive/CIFAR_ims\")))\n",
        "train_labels = ch.cat(ch.load(os.path.join( f\"drive/MyDrive/CIFAR_lab\")))\n",
        "train_data.shape"
      ]
    },
    {
      "cell_type": "code",
      "execution_count": null,
      "metadata": {
        "colab": {
          "base_uri": "https://localhost:8080/"
        },
        "id": "477e77e4-5ecc-4448-afa5-91c99fc0b1f5",
        "outputId": "74875cf0-86dc-417b-f74f-dcf05da5de0c"
      },
      "outputs": [
        {
          "data": {
            "text/plain": [
              "(10000, 3, 32, 32)"
            ]
          },
          "execution_count": 8,
          "metadata": {},
          "output_type": "execute_result"
        }
      ],
      "source": [
        "test_data = np.load('drive/MyDrive/rob5.npy')\n",
        "test_label = np.load('drive/MyDrive/rob.l5.npy')\n",
        "test_data.shape"
      ]
    },
    {
      "cell_type": "markdown",
      "metadata": {
        "collapsed": false,
        "id": "fc99562e-4300-4d4f-bd8c-24ea7f41d6e6"
      },
      "source": [
        "trian model on robust dataset"
      ]
    },
    {
      "cell_type": "code",
      "execution_count": null,
      "metadata": {
        "colab": {
          "base_uri": "https://localhost:8080/"
        },
        "id": "a6509a70-1c2f-4aa5-a91c-72b50e1314b0",
        "outputId": "b780abc8-b688-48fc-9ad7-ebc46928d4a8"
      },
      "outputs": [
        {
          "name": "stdout",
          "output_type": "stream",
          "text": [
            "Epoch 1/5\n",
            "782/782 [==============================] - ETA: 0s - loss: 0.7425 - accuracy: 0.7442\n",
            "Epoch 1: saving model to training_1/cp1.ckpt\n",
            "782/782 [==============================] - 577s 697ms/step - loss: 0.7425 - accuracy: 0.7442 - val_loss: 0.5350 - val_accuracy: 0.8183\n",
            "Epoch 2/5\n",
            "782/782 [==============================] - ETA: 0s - loss: 0.3264 - accuracy: 0.8878\n",
            "Epoch 2: saving model to training_1/cp1.ckpt\n",
            "782/782 [==============================] - 548s 700ms/step - loss: 0.3264 - accuracy: 0.8878 - val_loss: 0.4872 - val_accuracy: 0.8350\n",
            "Epoch 3/5\n",
            "782/782 [==============================] - ETA: 0s - loss: 0.1532 - accuracy: 0.9497\n",
            "Epoch 3: saving model to training_1/cp1.ckpt\n",
            "782/782 [==============================] - 535s 685ms/step - loss: 0.1532 - accuracy: 0.9497 - val_loss: 0.6146 - val_accuracy: 0.8134\n",
            "Epoch 4/5\n",
            "782/782 [==============================] - ETA: 0s - loss: 0.0582 - accuracy: 0.9836\n",
            "Epoch 4: saving model to training_1/cp1.ckpt\n",
            "782/782 [==============================] - 548s 700ms/step - loss: 0.0582 - accuracy: 0.9836 - val_loss: 0.6181 - val_accuracy: 0.8374\n",
            "Epoch 5/5\n",
            "782/782 [==============================] - ETA: 0s - loss: 0.0208 - accuracy: 0.9959\n",
            "Epoch 5: saving model to training_1/cp1.ckpt\n",
            "782/782 [==============================] - 548s 701ms/step - loss: 0.0208 - accuracy: 0.9959 - val_loss: 0.6316 - val_accuracy: 0.8434\n"
          ]
        }
      ],
      "source": [
        "checkpoint_path = \"training_1/cp1.ckpt\"\n",
        "checkpoint_dir = os.path.dirname(checkpoint_path)\n",
        "\n",
        "# Create a callback that saves the model's weights\n",
        "cp_callback = tf.keras.callbacks.ModelCheckpoint(filepath=checkpoint_path,\n",
        "                                                 save_weights_only=True,\n",
        "                                                 verbose=1)\n",
        "EPOCHS = 5\n",
        "history = model.fit(train_data, training_labels, epochs=EPOCHS,\n",
        "          callbacks=[cp_callback], validation_data = (valid_X, validation_labels), batch_size=64)"
      ]
    },
    {
      "cell_type": "markdown",
      "metadata": {
        "collapsed": false,
        "id": "3fdd22f0-bb76-4d6f-90b2-85358dc7cea5"
      },
      "source": [
        "Importing model trained on robust dataset"
      ]
    },
    {
      "cell_type": "code",
      "execution_count": null,
      "metadata": {
        "id": "2d41a78d-d722-4c7d-b01a-9df952a05a3c"
      },
      "outputs": [],
      "source": [
        "checkpoint_path = \"training_1/cp1.ckpt\"\n",
        "checkpoint_dir = os.path.dirname(checkpoint_path)"
      ]
    },
    {
      "cell_type": "code",
      "execution_count": null,
      "metadata": {
        "colab": {
          "base_uri": "https://localhost:8080/"
        },
        "id": "ba10f6a3-8798-4db9-94e9-28b0a3c73600",
        "outputId": "ea30a422-950b-42bf-d164-4647141a3c94"
      },
      "outputs": [
        {
          "data": {
            "text/plain": [
              "['checkpoint', 'cp1.ckpt.index', 'cp1.ckpt.data-00000-of-00001']"
            ]
          },
          "execution_count": 18,
          "metadata": {},
          "output_type": "execute_result"
        }
      ],
      "source": [
        "os.listdir(checkpoint_dir)"
      ]
    },
    {
      "cell_type": "code",
      "execution_count": null,
      "metadata": {
        "colab": {
          "base_uri": "https://localhost:8080/"
        },
        "id": "94d92ab6-227a-45ae-83c8-588f6f62b151",
        "outputId": "a4219f1c-3a35-4b6a-b95d-ce9235576c96"
      },
      "outputs": [
        {
          "data": {
            "text/plain": [
              "<tensorflow.python.checkpoint.checkpoint.CheckpointLoadStatus at 0x7f4490095090>"
            ]
          },
          "execution_count": 19,
          "metadata": {},
          "output_type": "execute_result"
        }
      ],
      "source": [
        "model_r.load_weights(checkpoint_path)"
      ]
    },
    {
      "cell_type": "markdown",
      "metadata": {
        "collapsed": false,
        "id": "c543c5c2-08ec-42d8-b756-9bbc569f9e0c"
      },
      "source": [
        "Importing model trained on standard dataset"
      ]
    },
    {
      "cell_type": "code",
      "execution_count": null,
      "metadata": {
        "id": "b2303ded-2fa1-4f76-a0ee-974847e432d8"
      },
      "outputs": [],
      "source": [
        "checkpoint_path = \"training_3/cp3.ckpt\"\n",
        "checkpoint_dir = os.path.dirname(checkpoint_path)"
      ]
    },
    {
      "cell_type": "code",
      "execution_count": null,
      "metadata": {
        "colab": {
          "base_uri": "https://localhost:8080/"
        },
        "id": "e8c57d85-a45c-48b2-bec4-78582475305b",
        "outputId": "c9ca26cc-4ec1-45b2-aa48-0201b0a07aac"
      },
      "outputs": [
        {
          "data": {
            "text/plain": [
              "['checkpoint', 'cp3.ckpt.data-00000-of-00001', 'cp3.ckpt.index']"
            ]
          },
          "execution_count": 22,
          "metadata": {},
          "output_type": "execute_result"
        }
      ],
      "source": [
        "os.listdir(checkpoint_dir)"
      ]
    },
    {
      "cell_type": "code",
      "execution_count": null,
      "metadata": {
        "colab": {
          "base_uri": "https://localhost:8080/"
        },
        "id": "996d9822-d931-4f85-af9d-6cc5fa8f8f71",
        "outputId": "f80f686f-18e7-457f-fb7f-7808521145af"
      },
      "outputs": [
        {
          "data": {
            "text/plain": [
              "<tensorflow.python.checkpoint.checkpoint.CheckpointLoadStatus at 0x7f4490094af0>"
            ]
          },
          "execution_count": 23,
          "metadata": {},
          "output_type": "execute_result"
        }
      ],
      "source": [
        "model.load_weights(checkpoint_path)"
      ]
    },
    {
      "cell_type": "code",
      "execution_count": null,
      "metadata": {
        "colab": {
          "base_uri": "https://localhost:8080/"
        },
        "id": "f0fcb781-0866-4232-ab39-331bcb3fe273",
        "outputId": "0a6999ea-95fb-46d0-d6d1-e9591a8f5b63"
      },
      "outputs": [
        {
          "name": "stdout",
          "output_type": "stream",
          "text": [
            "157/157 [==============================] - 36s 163ms/step - loss: 0.1740 - accuracy: 0.9552\n"
          ]
        }
      ],
      "source": [
        "loss, accuracy = model.evaluate(valid_X, validation_labels, batch_size=64)"
      ]
    },
    {
      "cell_type": "code",
      "execution_count": null,
      "metadata": {
        "id": "2fec6d65-4dae-48c7-adaf-fe6f45dbbebd"
      },
      "outputs": [],
      "source": [
        "logits_model = tf.keras.Model(model.input,model.layers[-1].output)"
      ]
    },
    {
      "cell_type": "code",
      "execution_count": null,
      "metadata": {
        "id": "68990b81-e131-4b26-b5e9-87b4b06ec4f8"
      },
      "outputs": [],
      "source": [
        "logits_model_r = tf.keras.Model(model_r.input,model_r.layers[-1].output)"
      ]
    },
    {
      "cell_type": "markdown",
      "metadata": {
        "collapsed": false,
        "id": "52daa896-21f4-4cac-ad28-54875c7957b1"
      },
      "source": [
        "robust/normal"
      ]
    },
    {
      "cell_type": "markdown",
      "metadata": {
        "collapsed": false,
        "id": "499e44bd-cc7f-4bb9-9758-2f41e012f5a7"
      },
      "source": [
        "Define pgd attack perturbed images from standard dataset with standard attack and classify with standard model."
      ]
    },
    {
      "cell_type": "code",
      "execution_count": null,
      "metadata": {
        "colab": {
          "base_uri": "https://localhost:8080/"
        },
        "id": "0cf8d1cc-9fd2-4eca-aaf6-c986707e929c",
        "outputId": "fd720773-0079-4496-eaf5-1b1ff4ea7043"
      },
      "outputs": [
        {
          "name": "stdout",
          "output_type": "stream",
          "text": [
            "1/1 [==============================] - 0s 22ms/step\n",
            "1/1 [==============================] - 0s 25ms/step\n",
            "1/1 [==============================] - 0s 23ms/step\n",
            "1/1 [==============================] - 0s 23ms/step\n",
            "1/1 [==============================] - 0s 24ms/step\n",
            "1/1 [==============================] - 0s 22ms/step\n",
            "1/1 [==============================] - 0s 22ms/step\n",
            "1/1 [==============================] - 0s 25ms/step\n",
            "1/1 [==============================] - 0s 27ms/step\n",
            "1/1 [==============================] - 0s 26ms/step\n",
            "1/1 [==============================] - 0s 23ms/step\n",
            "1/1 [==============================] - 0s 24ms/step\n",
            "1/1 [==============================] - 0s 24ms/step\n",
            "1/1 [==============================] - 0s 23ms/step\n",
            "1/1 [==============================] - 0s 22ms/step\n",
            "1/1 [==============================] - 0s 25ms/step\n",
            "1/1 [==============================] - 0s 24ms/step\n",
            "1/1 [==============================] - 0s 23ms/step\n",
            "1/1 [==============================] - 0s 23ms/step\n",
            "1/1 [==============================] - 0s 24ms/step\n",
            "1/1 [==============================] - 0s 24ms/step\n",
            "1/1 [==============================] - 0s 23ms/step\n",
            "1/1 [==============================] - 0s 22ms/step\n",
            "1/1 [==============================] - 0s 22ms/step\n",
            "1/1 [==============================] - 0s 26ms/step\n",
            "1/1 [==============================] - 0s 26ms/step\n",
            "1/1 [==============================] - 0s 24ms/step\n",
            "1/1 [==============================] - 0s 22ms/step\n",
            "1/1 [==============================] - 0s 23ms/step\n",
            "1/1 [==============================] - 0s 23ms/step\n",
            "1/1 [==============================] - 0s 24ms/step\n",
            "1/1 [==============================] - 0s 23ms/step\n",
            "1/1 [==============================] - 0s 27ms/step\n",
            "1/1 [==============================] - 0s 28ms/step\n",
            "1/1 [==============================] - 0s 25ms/step\n",
            "1/1 [==============================] - 0s 23ms/step\n",
            "1/1 [==============================] - 0s 22ms/step\n",
            "1/1 [==============================] - 0s 23ms/step\n",
            "1/1 [==============================] - 0s 22ms/step\n",
            "1/1 [==============================] - 0s 22ms/step\n",
            "1/1 [==============================] - 0s 24ms/step\n",
            "1/1 [==============================] - 0s 23ms/step\n",
            "1/1 [==============================] - 0s 24ms/step\n",
            "1/1 [==============================] - 0s 26ms/step\n",
            "1/1 [==============================] - 0s 23ms/step\n",
            "1/1 [==============================] - 0s 22ms/step\n",
            "1/1 [==============================] - 0s 24ms/step\n",
            "1/1 [==============================] - 0s 25ms/step\n",
            "1/1 [==============================] - 0s 22ms/step\n",
            "1/1 [==============================] - 0s 23ms/step\n",
            "1/1 [==============================] - 0s 23ms/step\n",
            "1/1 [==============================] - 0s 23ms/step\n",
            "1/1 [==============================] - 0s 23ms/step\n",
            "1/1 [==============================] - 0s 26ms/step\n",
            "1/1 [==============================] - 0s 23ms/step\n",
            "1/1 [==============================] - 0s 23ms/step\n",
            "1/1 [==============================] - 0s 22ms/step\n",
            "1/1 [==============================] - 0s 23ms/step\n",
            "1/1 [==============================] - 0s 24ms/step\n",
            "1/1 [==============================] - 0s 27ms/step\n",
            "1/1 [==============================] - 0s 24ms/step\n",
            "1/1 [==============================] - 0s 23ms/step\n",
            "1/1 [==============================] - 0s 25ms/step\n",
            "1/1 [==============================] - 0s 24ms/step\n",
            "1/1 [==============================] - 0s 24ms/step\n",
            "1/1 [==============================] - 0s 23ms/step\n",
            "1/1 [==============================] - 0s 22ms/step\n",
            "1/1 [==============================] - 0s 22ms/step\n",
            "1/1 [==============================] - 0s 24ms/step\n",
            "1/1 [==============================] - 0s 25ms/step\n",
            "1/1 [==============================] - 0s 30ms/step\n",
            "1/1 [==============================] - 0s 25ms/step\n",
            "1/1 [==============================] - 0s 23ms/step\n",
            "1/1 [==============================] - 0s 23ms/step\n",
            "1/1 [==============================] - 0s 24ms/step\n",
            "1/1 [==============================] - 0s 24ms/step\n",
            "1/1 [==============================] - 0s 23ms/step\n",
            "1/1 [==============================] - 0s 22ms/step\n",
            "1/1 [==============================] - 0s 27ms/step\n",
            "1/1 [==============================] - 0s 24ms/step\n",
            "1/1 [==============================] - 0s 24ms/step\n",
            "1/1 [==============================] - 0s 24ms/step\n",
            "1/1 [==============================] - 0s 24ms/step\n",
            "1/1 [==============================] - 0s 23ms/step\n",
            "1/1 [==============================] - 0s 22ms/step\n",
            "1/1 [==============================] - 0s 24ms/step\n",
            "1/1 [==============================] - 0s 22ms/step\n",
            "1/1 [==============================] - 0s 24ms/step\n",
            "1/1 [==============================] - 0s 23ms/step\n",
            "1/1 [==============================] - 0s 23ms/step\n",
            "1/1 [==============================] - 0s 23ms/step\n",
            "1/1 [==============================] - 0s 25ms/step\n",
            "1/1 [==============================] - 0s 24ms/step\n",
            "1/1 [==============================] - 0s 23ms/step\n",
            "1/1 [==============================] - 0s 27ms/step\n",
            "1/1 [==============================] - 0s 26ms/step\n",
            "1/1 [==============================] - 0s 23ms/step\n",
            "1/1 [==============================] - 0s 22ms/step\n",
            "1/1 [==============================] - 0s 22ms/step\n",
            "1/1 [==============================] - 0s 24ms/step\n",
            "Accuracy: 13.00%\n"
          ]
        }
      ],
      "source": [
        "import tensorflow as tf\n",
        "import numpy as np\n",
        "# Define the PGD attack function\n",
        "def pgd_attack(image, model, epsilon, num_steps, step_size):\n",
        "    perturbed_image = tf.identity(image)\n",
        "\n",
        "    for _ in range(num_steps):\n",
        "        with tf.GradientTape() as tape:\n",
        "            tape.watch(perturbed_image)\n",
        "            predictions = model(perturbed_image)\n",
        "            loss = tf.keras.losses.sparse_categorical_crossentropy(training_labels1[random_index], predictions)\n",
        "\n",
        "        gradient = tape.gradient(loss, perturbed_image)\n",
        "        signed_grad = tf.sign(gradient)\n",
        "        perturbed_image = perturbed_image + step_size * signed_grad\n",
        "        perturbed_image = tf.clip_by_value(perturbed_image, image - epsilon, image + epsilon)\n",
        "        perturbed_image = tf.clip_by_value(perturbed_image, 0, 255)\n",
        "\n",
        "    return perturbed_image\n",
        "\n",
        "num_correct = 0\n",
        "\n",
        "for j in range(100):\n",
        "    random_index = np.random.randint(validation_images.shape[0])\n",
        "\n",
        "    preprocessed_image = preprocess_image_input(training_images1[random_index])\n",
        "    reshaped_image = np.reshape(preprocessed_image, (1, 32, 32, 3))\n",
        "\n",
        "    perturbed_image = pgd_attack(reshaped_image, model, epsilon, num_steps, step_size)\n",
        "    perturbed_image = np.squeeze(perturbed_image, axis=0)\n",
        "\n",
        "    # Make predictions\n",
        "    predictions = model.predict(perturbed_image[np.newaxis, ...])\n",
        "\n",
        "    # Get predicted label\n",
        "    predicted_label = np.argmax(predictions[0])\n",
        "\n",
        "    # Compare with true label\n",
        "    true_label = np.reshape(training_labels1[random_index], (1,))[0]\n",
        "    if predicted_label == true_label:\n",
        "        num_correct += 1\n",
        "\n",
        "accuracy = num_correct / 100\n",
        "print(\"Accuracy: {:.2%}\".format(accuracy))\n"
      ]
    },
    {
      "cell_type": "markdown",
      "metadata": {
        "collapsed": false,
        "id": "2de00a01-8c4e-4262-ba4d-906fe5cff15a"
      },
      "source": [
        "Define pgd attack perturbed images from standard dataset with robust attack and classify with robust model."
      ]
    },
    {
      "cell_type": "code",
      "execution_count": null,
      "metadata": {
        "colab": {
          "base_uri": "https://localhost:8080/"
        },
        "id": "15e4630a-3e71-4f76-a4ed-9e0349446caf",
        "outputId": "f3a2d2ec-2265-430f-f60c-260db4117e64"
      },
      "outputs": [
        {
          "name": "stdout",
          "output_type": "stream",
          "text": [
            "1/1 [==============================] - 0s 25ms/step\n",
            "1/1 [==============================] - 0s 24ms/step\n",
            "1/1 [==============================] - 0s 25ms/step\n",
            "1/1 [==============================] - 0s 24ms/step\n",
            "1/1 [==============================] - 0s 24ms/step\n",
            "1/1 [==============================] - 0s 23ms/step\n",
            "1/1 [==============================] - 0s 25ms/step\n",
            "1/1 [==============================] - 0s 24ms/step\n",
            "1/1 [==============================] - 0s 24ms/step\n",
            "1/1 [==============================] - 0s 23ms/step\n",
            "1/1 [==============================] - 0s 25ms/step\n",
            "1/1 [==============================] - 0s 25ms/step\n",
            "1/1 [==============================] - 0s 24ms/step\n",
            "1/1 [==============================] - 0s 26ms/step\n",
            "1/1 [==============================] - 0s 26ms/step\n",
            "1/1 [==============================] - 0s 25ms/step\n",
            "1/1 [==============================] - 0s 26ms/step\n",
            "1/1 [==============================] - 0s 23ms/step\n",
            "1/1 [==============================] - 0s 24ms/step\n",
            "1/1 [==============================] - 0s 24ms/step\n",
            "1/1 [==============================] - 0s 25ms/step\n",
            "1/1 [==============================] - 0s 24ms/step\n",
            "1/1 [==============================] - 0s 23ms/step\n",
            "1/1 [==============================] - 0s 24ms/step\n",
            "1/1 [==============================] - 0s 25ms/step\n",
            "1/1 [==============================] - 0s 25ms/step\n",
            "1/1 [==============================] - 0s 26ms/step\n",
            "1/1 [==============================] - 0s 23ms/step\n",
            "1/1 [==============================] - 0s 25ms/step\n",
            "1/1 [==============================] - 0s 25ms/step\n",
            "1/1 [==============================] - 0s 26ms/step\n",
            "1/1 [==============================] - 0s 24ms/step\n",
            "1/1 [==============================] - 0s 25ms/step\n",
            "1/1 [==============================] - 0s 24ms/step\n",
            "1/1 [==============================] - 0s 25ms/step\n",
            "1/1 [==============================] - 0s 24ms/step\n",
            "1/1 [==============================] - 0s 26ms/step\n",
            "1/1 [==============================] - 0s 26ms/step\n",
            "1/1 [==============================] - 0s 24ms/step\n",
            "1/1 [==============================] - 0s 25ms/step\n",
            "1/1 [==============================] - 0s 25ms/step\n",
            "1/1 [==============================] - 0s 27ms/step\n",
            "1/1 [==============================] - 0s 25ms/step\n",
            "1/1 [==============================] - 0s 24ms/step\n",
            "1/1 [==============================] - 0s 24ms/step\n",
            "1/1 [==============================] - 0s 26ms/step\n",
            "1/1 [==============================] - 0s 24ms/step\n",
            "1/1 [==============================] - 0s 26ms/step\n",
            "1/1 [==============================] - 0s 24ms/step\n",
            "1/1 [==============================] - 0s 24ms/step\n",
            "1/1 [==============================] - 0s 28ms/step\n",
            "1/1 [==============================] - 0s 24ms/step\n",
            "1/1 [==============================] - 0s 24ms/step\n",
            "1/1 [==============================] - 0s 24ms/step\n",
            "1/1 [==============================] - 0s 27ms/step\n",
            "1/1 [==============================] - 0s 24ms/step\n",
            "1/1 [==============================] - 0s 25ms/step\n",
            "1/1 [==============================] - 0s 26ms/step\n",
            "1/1 [==============================] - 0s 26ms/step\n",
            "1/1 [==============================] - 0s 27ms/step\n",
            "1/1 [==============================] - 0s 24ms/step\n",
            "1/1 [==============================] - 0s 24ms/step\n",
            "1/1 [==============================] - 0s 31ms/step\n",
            "1/1 [==============================] - 0s 26ms/step\n",
            "1/1 [==============================] - 0s 27ms/step\n",
            "1/1 [==============================] - 0s 27ms/step\n",
            "1/1 [==============================] - 0s 25ms/step\n",
            "1/1 [==============================] - 0s 24ms/step\n",
            "1/1 [==============================] - 0s 27ms/step\n",
            "1/1 [==============================] - 0s 27ms/step\n",
            "1/1 [==============================] - 0s 26ms/step\n",
            "1/1 [==============================] - 0s 25ms/step\n",
            "1/1 [==============================] - 0s 24ms/step\n",
            "1/1 [==============================] - 0s 24ms/step\n",
            "1/1 [==============================] - 0s 26ms/step\n",
            "1/1 [==============================] - 0s 24ms/step\n",
            "1/1 [==============================] - 0s 24ms/step\n",
            "1/1 [==============================] - 0s 25ms/step\n",
            "1/1 [==============================] - 0s 24ms/step\n",
            "1/1 [==============================] - 0s 23ms/step\n",
            "1/1 [==============================] - 0s 26ms/step\n",
            "1/1 [==============================] - 0s 25ms/step\n",
            "1/1 [==============================] - 0s 25ms/step\n",
            "1/1 [==============================] - 0s 26ms/step\n",
            "1/1 [==============================] - 0s 25ms/step\n",
            "1/1 [==============================] - 0s 23ms/step\n",
            "1/1 [==============================] - 0s 25ms/step\n",
            "1/1 [==============================] - 0s 23ms/step\n",
            "1/1 [==============================] - 0s 24ms/step\n",
            "1/1 [==============================] - 0s 27ms/step\n",
            "1/1 [==============================] - 0s 26ms/step\n",
            "1/1 [==============================] - 0s 24ms/step\n",
            "1/1 [==============================] - 0s 27ms/step\n",
            "1/1 [==============================] - 0s 23ms/step\n",
            "1/1 [==============================] - 0s 24ms/step\n",
            "1/1 [==============================] - 0s 27ms/step\n",
            "1/1 [==============================] - 0s 23ms/step\n",
            "1/1 [==============================] - 0s 24ms/step\n",
            "1/1 [==============================] - 0s 26ms/step\n",
            "1/1 [==============================] - 0s 23ms/step\n",
            "Accuracy: 21.00%\n"
          ]
        }
      ],
      "source": [
        "import tensorflow as tf\n",
        "import numpy as np\n",
        "\n",
        "# Define the PGD attack function\n",
        "def pgd_attack(image, model, epsilon, num_steps, step_size):\n",
        "    perturbed_image = tf.identity(image)\n",
        "\n",
        "    for _ in range(num_steps):\n",
        "        with tf.GradientTape() as tape:\n",
        "            tape.watch(perturbed_image)\n",
        "            predictions = model(perturbed_image)\n",
        "            loss = tf.keras.losses.sparse_categorical_crossentropy(training_labels1[random_index], predictions)\n",
        "\n",
        "        gradient = tape.gradient(loss, perturbed_image)\n",
        "        signed_grad = tf.sign(gradient)\n",
        "        perturbed_image = perturbed_image + step_size * signed_grad\n",
        "        perturbed_image = tf.clip_by_value(perturbed_image, image - epsilon, image + epsilon)\n",
        "        perturbed_image = tf.clip_by_value(perturbed_image, 0, 255)\n",
        "\n",
        "    return perturbed_image\n",
        "\n",
        "num_correct = 0\n",
        "\n",
        "for j in range(100):\n",
        "    random_index = np.random.randint(validation_images.shape[0])\n",
        "\n",
        "    preprocessed_image = preprocess_image_input(training_images1[random_index])\n",
        "    reshaped_image = np.reshape(preprocessed_image, (1, 32, 32, 3))\n",
        "\n",
        "    perturbed_image = pgd_attack(reshaped_image, model_r, epsilon, num_steps, step_size)\n",
        "    perturbed_image = np.squeeze(perturbed_image, axis=0)\n",
        "\n",
        "    # Make predictions\n",
        "    predictions = model_r.predict(perturbed_image[np.newaxis, ...])\n",
        "\n",
        "    # Get predicted label\n",
        "    predicted_label = np.argmax(predictions[0])\n",
        "\n",
        "    # Compare with true label\n",
        "    true_label = np.reshape(training_labels1[random_index], (1,))[0]\n",
        "    if predicted_label == true_label:\n",
        "        num_correct += 1\n",
        "\n",
        "accuracy = num_correct / 100\n",
        "print(\"Accuracy: {:.2%}\".format(accuracy))"
      ]
    },
    {
      "cell_type": "markdown",
      "metadata": {
        "collapsed": false,
        "id": "81f37ad9-ac0d-443e-b5c4-bb7890396d69"
      },
      "source": [
        "Define pgd attack perturbed images from standard dataset with standard attack and classify with robust model."
      ]
    },
    {
      "cell_type": "code",
      "execution_count": null,
      "metadata": {
        "colab": {
          "base_uri": "https://localhost:8080/"
        },
        "id": "efae7891-2395-4e41-9bca-39b677b3a0e0",
        "outputId": "1aae1040-9808-4e8b-f806-de96ecf69f1e"
      },
      "outputs": [
        {
          "name": "stdout",
          "output_type": "stream",
          "text": [
            "1/1 [==============================] - 0s 23ms/step\n",
            "1/1 [==============================] - 0s 23ms/step\n",
            "1/1 [==============================] - 0s 22ms/step\n",
            "1/1 [==============================] - 0s 24ms/step\n",
            "1/1 [==============================] - 0s 24ms/step\n",
            "1/1 [==============================] - 0s 33ms/step\n",
            "1/1 [==============================] - 0s 24ms/step\n",
            "1/1 [==============================] - 0s 26ms/step\n",
            "1/1 [==============================] - 0s 22ms/step\n",
            "1/1 [==============================] - 0s 23ms/step\n",
            "1/1 [==============================] - 0s 24ms/step\n",
            "1/1 [==============================] - 0s 22ms/step\n",
            "1/1 [==============================] - 0s 22ms/step\n",
            "1/1 [==============================] - 0s 29ms/step\n",
            "1/1 [==============================] - 0s 26ms/step\n",
            "1/1 [==============================] - 0s 22ms/step\n",
            "1/1 [==============================] - 0s 23ms/step\n",
            "1/1 [==============================] - 0s 24ms/step\n",
            "1/1 [==============================] - 0s 21ms/step\n",
            "1/1 [==============================] - 0s 22ms/step\n",
            "1/1 [==============================] - 0s 23ms/step\n",
            "1/1 [==============================] - 0s 23ms/step\n",
            "1/1 [==============================] - 0s 22ms/step\n",
            "1/1 [==============================] - 0s 24ms/step\n",
            "1/1 [==============================] - 0s 25ms/step\n",
            "1/1 [==============================] - 0s 23ms/step\n",
            "1/1 [==============================] - 0s 23ms/step\n",
            "1/1 [==============================] - 0s 22ms/step\n",
            "1/1 [==============================] - 0s 22ms/step\n",
            "1/1 [==============================] - 0s 23ms/step\n",
            "1/1 [==============================] - 0s 23ms/step\n",
            "1/1 [==============================] - 0s 24ms/step\n",
            "1/1 [==============================] - 0s 24ms/step\n",
            "1/1 [==============================] - 0s 24ms/step\n",
            "1/1 [==============================] - 0s 23ms/step\n",
            "1/1 [==============================] - 0s 22ms/step\n",
            "1/1 [==============================] - 0s 23ms/step\n",
            "1/1 [==============================] - 0s 23ms/step\n",
            "1/1 [==============================] - 0s 24ms/step\n",
            "1/1 [==============================] - 0s 26ms/step\n",
            "1/1 [==============================] - 0s 25ms/step\n",
            "1/1 [==============================] - 0s 24ms/step\n",
            "1/1 [==============================] - 0s 23ms/step\n",
            "1/1 [==============================] - 0s 23ms/step\n",
            "1/1 [==============================] - 0s 22ms/step\n",
            "1/1 [==============================] - 0s 23ms/step\n",
            "1/1 [==============================] - 0s 25ms/step\n",
            "1/1 [==============================] - 0s 22ms/step\n",
            "1/1 [==============================] - 0s 23ms/step\n",
            "1/1 [==============================] - 0s 22ms/step\n",
            "1/1 [==============================] - 0s 22ms/step\n",
            "1/1 [==============================] - 0s 24ms/step\n",
            "1/1 [==============================] - 0s 24ms/step\n",
            "1/1 [==============================] - 0s 25ms/step\n",
            "1/1 [==============================] - 0s 23ms/step\n",
            "1/1 [==============================] - 0s 21ms/step\n",
            "1/1 [==============================] - 0s 23ms/step\n",
            "1/1 [==============================] - 0s 23ms/step\n",
            "1/1 [==============================] - 0s 24ms/step\n",
            "1/1 [==============================] - 0s 21ms/step\n",
            "1/1 [==============================] - 0s 22ms/step\n",
            "1/1 [==============================] - 0s 23ms/step\n",
            "1/1 [==============================] - 0s 23ms/step\n",
            "1/1 [==============================] - 0s 23ms/step\n",
            "1/1 [==============================] - 0s 24ms/step\n",
            "1/1 [==============================] - 0s 23ms/step\n",
            "1/1 [==============================] - 0s 24ms/step\n",
            "1/1 [==============================] - 0s 23ms/step\n",
            "1/1 [==============================] - 0s 21ms/step\n",
            "1/1 [==============================] - 0s 26ms/step\n",
            "1/1 [==============================] - 0s 23ms/step\n",
            "1/1 [==============================] - 0s 22ms/step\n",
            "1/1 [==============================] - 0s 24ms/step\n",
            "1/1 [==============================] - 0s 23ms/step\n",
            "1/1 [==============================] - 0s 22ms/step\n",
            "1/1 [==============================] - 0s 23ms/step\n",
            "1/1 [==============================] - 0s 30ms/step\n",
            "1/1 [==============================] - 0s 24ms/step\n",
            "1/1 [==============================] - 0s 24ms/step\n",
            "1/1 [==============================] - 0s 23ms/step\n",
            "1/1 [==============================] - 0s 24ms/step\n",
            "1/1 [==============================] - 0s 22ms/step\n",
            "1/1 [==============================] - 0s 21ms/step\n",
            "1/1 [==============================] - 0s 22ms/step\n",
            "1/1 [==============================] - 0s 23ms/step\n",
            "1/1 [==============================] - 0s 22ms/step\n",
            "1/1 [==============================] - 0s 21ms/step\n",
            "1/1 [==============================] - 0s 24ms/step\n",
            "1/1 [==============================] - 0s 27ms/step\n",
            "1/1 [==============================] - 0s 22ms/step\n",
            "1/1 [==============================] - 0s 22ms/step\n",
            "1/1 [==============================] - 0s 24ms/step\n",
            "1/1 [==============================] - 0s 24ms/step\n",
            "1/1 [==============================] - 0s 24ms/step\n",
            "1/1 [==============================] - 0s 23ms/step\n",
            "1/1 [==============================] - 0s 23ms/step\n",
            "1/1 [==============================] - 0s 24ms/step\n",
            "1/1 [==============================] - 0s 24ms/step\n",
            "1/1 [==============================] - 0s 23ms/step\n",
            "1/1 [==============================] - 0s 22ms/step\n",
            "Accuracy: 33.00%\n"
          ]
        }
      ],
      "source": [
        "import tensorflow as tf\n",
        "import numpy as np\n",
        "\n",
        "# Define the PGD attack function\n",
        "def pgd_attack(image, model, epsilon, num_steps, step_size):\n",
        "    perturbed_image = tf.identity(image)\n",
        "\n",
        "    for _ in range(num_steps):\n",
        "        with tf.GradientTape() as tape:\n",
        "            tape.watch(perturbed_image)\n",
        "            predictions = model(perturbed_image)\n",
        "            loss = tf.keras.losses.sparse_categorical_crossentropy(training_labels1[random_index], predictions)\n",
        "\n",
        "        gradient = tape.gradient(loss, perturbed_image)\n",
        "        signed_grad = tf.sign(gradient)\n",
        "        perturbed_image = perturbed_image + step_size * signed_grad\n",
        "        perturbed_image = tf.clip_by_value(perturbed_image, image - epsilon, image + epsilon)\n",
        "        perturbed_image = tf.clip_by_value(perturbed_image, 0, 255)\n",
        "\n",
        "    return perturbed_image\n",
        "\n",
        "num_correct = 0\n",
        "\n",
        "for j in range(100):\n",
        "    random_index = np.random.randint(validation_images.shape[0])\n",
        "\n",
        "    preprocessed_image = preprocess_image_input(training_images1[random_index])\n",
        "    reshaped_image = np.reshape(preprocessed_image, (1, 32, 32, 3))\n",
        "\n",
        "    perturbed_image = pgd_attack(reshaped_image, model, epsilon, num_steps, step_size)\n",
        "    perturbed_image = np.squeeze(perturbed_image, axis=0)\n",
        "\n",
        "    # Make predictions\n",
        "    predictions = model_r.predict(perturbed_image[np.newaxis, ...])\n",
        "\n",
        "    # Get predicted label\n",
        "    predicted_label = np.argmax(predictions[0])\n",
        "\n",
        "    # Compare with true label\n",
        "    true_label = np.reshape(training_labels1[random_index], (1,))[0]\n",
        "    if predicted_label == true_label:\n",
        "        num_correct += 1\n",
        "\n",
        "accuracy = num_correct / 100\n",
        "print(\"Accuracy: {:.2%}\".format(accuracy))"
      ]
    },
    {
      "cell_type": "markdown",
      "metadata": {
        "collapsed": false,
        "id": "c0077bf8-b637-4c69-9833-1d1f6cd33cf4"
      },
      "source": [
        "Define pgd attack perturbed images from robust dataset with standard attack and classify with robust model."
      ]
    },
    {
      "cell_type": "code",
      "execution_count": null,
      "metadata": {
        "colab": {
          "base_uri": "https://localhost:8080/"
        },
        "id": "2082ce33-f2cc-43eb-84c1-4c16e5148cf0",
        "outputId": "8afb50ee-83fd-46a2-dbdc-337d25d913b8"
      },
      "outputs": [
        {
          "name": "stdout",
          "output_type": "stream",
          "text": [
            "1/1 [==============================] - 1s 1s/step\n",
            "1/1 [==============================] - 0s 28ms/step\n",
            "1/1 [==============================] - 0s 26ms/step\n",
            "1/1 [==============================] - 0s 31ms/step\n",
            "1/1 [==============================] - 0s 24ms/step\n",
            "1/1 [==============================] - 0s 25ms/step\n",
            "1/1 [==============================] - 0s 25ms/step\n",
            "1/1 [==============================] - 0s 33ms/step\n",
            "1/1 [==============================] - 0s 25ms/step\n",
            "1/1 [==============================] - 0s 26ms/step\n",
            "1/1 [==============================] - 0s 26ms/step\n",
            "1/1 [==============================] - 0s 24ms/step\n",
            "1/1 [==============================] - 0s 24ms/step\n",
            "1/1 [==============================] - 0s 30ms/step\n",
            "1/1 [==============================] - 0s 29ms/step\n",
            "1/1 [==============================] - 0s 27ms/step\n",
            "1/1 [==============================] - 0s 29ms/step\n",
            "1/1 [==============================] - 0s 24ms/step\n",
            "1/1 [==============================] - 0s 34ms/step\n",
            "1/1 [==============================] - 0s 26ms/step\n",
            "1/1 [==============================] - 0s 28ms/step\n",
            "1/1 [==============================] - 0s 24ms/step\n",
            "1/1 [==============================] - 0s 27ms/step\n",
            "1/1 [==============================] - 0s 26ms/step\n",
            "1/1 [==============================] - 0s 25ms/step\n",
            "1/1 [==============================] - 0s 24ms/step\n",
            "1/1 [==============================] - 0s 29ms/step\n",
            "1/1 [==============================] - 0s 23ms/step\n",
            "1/1 [==============================] - 0s 26ms/step\n",
            "1/1 [==============================] - 0s 29ms/step\n",
            "1/1 [==============================] - 0s 23ms/step\n",
            "1/1 [==============================] - 0s 28ms/step\n",
            "1/1 [==============================] - 0s 27ms/step\n",
            "1/1 [==============================] - 0s 24ms/step\n",
            "1/1 [==============================] - 0s 29ms/step\n",
            "1/1 [==============================] - 0s 23ms/step\n",
            "1/1 [==============================] - 0s 28ms/step\n",
            "1/1 [==============================] - 0s 26ms/step\n",
            "1/1 [==============================] - 0s 29ms/step\n",
            "1/1 [==============================] - 0s 23ms/step\n",
            "1/1 [==============================] - 0s 31ms/step\n",
            "1/1 [==============================] - 0s 26ms/step\n",
            "1/1 [==============================] - 0s 28ms/step\n",
            "1/1 [==============================] - 0s 26ms/step\n",
            "1/1 [==============================] - 0s 29ms/step\n",
            "1/1 [==============================] - 0s 25ms/step\n",
            "1/1 [==============================] - 0s 24ms/step\n",
            "1/1 [==============================] - 0s 31ms/step\n",
            "1/1 [==============================] - 0s 24ms/step\n",
            "1/1 [==============================] - 0s 25ms/step\n",
            "1/1 [==============================] - 0s 33ms/step\n",
            "1/1 [==============================] - 0s 27ms/step\n",
            "1/1 [==============================] - 0s 31ms/step\n",
            "1/1 [==============================] - 0s 29ms/step\n",
            "1/1 [==============================] - 0s 26ms/step\n",
            "1/1 [==============================] - 0s 25ms/step\n",
            "1/1 [==============================] - 0s 28ms/step\n",
            "1/1 [==============================] - 0s 28ms/step\n",
            "1/1 [==============================] - 0s 24ms/step\n",
            "1/1 [==============================] - 0s 26ms/step\n",
            "1/1 [==============================] - 0s 26ms/step\n",
            "1/1 [==============================] - 0s 29ms/step\n",
            "1/1 [==============================] - 0s 24ms/step\n",
            "1/1 [==============================] - 0s 25ms/step\n",
            "1/1 [==============================] - 0s 26ms/step\n",
            "1/1 [==============================] - 0s 23ms/step\n",
            "1/1 [==============================] - 0s 26ms/step\n",
            "1/1 [==============================] - 0s 25ms/step\n",
            "1/1 [==============================] - 0s 25ms/step\n",
            "1/1 [==============================] - 0s 30ms/step\n",
            "1/1 [==============================] - 0s 31ms/step\n",
            "1/1 [==============================] - 0s 22ms/step\n",
            "1/1 [==============================] - 0s 30ms/step\n",
            "1/1 [==============================] - 0s 27ms/step\n",
            "1/1 [==============================] - 0s 31ms/step\n",
            "1/1 [==============================] - 0s 27ms/step\n",
            "1/1 [==============================] - 0s 23ms/step\n",
            "1/1 [==============================] - 0s 29ms/step\n",
            "1/1 [==============================] - 0s 31ms/step\n",
            "1/1 [==============================] - 0s 24ms/step\n",
            "1/1 [==============================] - 0s 22ms/step\n",
            "1/1 [==============================] - 0s 28ms/step\n",
            "1/1 [==============================] - 0s 27ms/step\n",
            "1/1 [==============================] - 0s 26ms/step\n",
            "1/1 [==============================] - 0s 25ms/step\n",
            "1/1 [==============================] - 0s 27ms/step\n",
            "1/1 [==============================] - 0s 28ms/step\n",
            "1/1 [==============================] - 0s 29ms/step\n",
            "1/1 [==============================] - 0s 26ms/step\n",
            "1/1 [==============================] - 0s 26ms/step\n",
            "1/1 [==============================] - 0s 26ms/step\n",
            "1/1 [==============================] - 0s 32ms/step\n",
            "1/1 [==============================] - 0s 33ms/step\n",
            "1/1 [==============================] - 0s 27ms/step\n",
            "1/1 [==============================] - 0s 26ms/step\n",
            "1/1 [==============================] - 0s 30ms/step\n",
            "1/1 [==============================] - 0s 30ms/step\n",
            "1/1 [==============================] - 0s 25ms/step\n",
            "1/1 [==============================] - 0s 27ms/step\n",
            "1/1 [==============================] - 0s 26ms/step\n",
            "Accuracy: 64.00%\n"
          ]
        }
      ],
      "source": [
        "import tensorflow as tf\n",
        "import numpy as np\n",
        "\n",
        "\n",
        "# Define the PGD attack function\n",
        "def pgd_attack(image, model, epsilon, num_steps, step_size):\n",
        "    perturbed_image = tf.identity(image)\n",
        "\n",
        "    for _ in range(num_steps):\n",
        "        with tf.GradientTape() as tape:\n",
        "            tape.watch(perturbed_image)\n",
        "            predictions = model(perturbed_image)\n",
        "            loss = tf.keras.losses.sparse_categorical_crossentropy(training_labels[random_index], predictions)\n",
        "\n",
        "        gradient = tape.gradient(loss, perturbed_image)\n",
        "        signed_grad = tf.sign(gradient)\n",
        "        perturbed_image = perturbed_image + step_size * signed_grad\n",
        "        perturbed_image = tf.clip_by_value(perturbed_image, image - epsilon, image + epsilon)\n",
        "        perturbed_image = tf.clip_by_value(perturbed_image, 0, 255)\n",
        "\n",
        "    return perturbed_image\n",
        "\n",
        "num_correct = 0\n",
        "\n",
        "for j in range(100):\n",
        "    random_index = np.random.randint(validation_images.shape[0])\n",
        "\n",
        "    preprocessed_image = preprocess_image_input(training_images[random_index])\n",
        "    reshaped_image = np.reshape(preprocessed_image, (1, 32, 32, 3))\n",
        "\n",
        "    perturbed_image = pgd_attack(reshaped_image, model, epsilon, num_steps, step_size)\n",
        "    perturbed_image = np.squeeze(perturbed_image, axis=0)\n",
        "\n",
        "    # Make predictions\n",
        "    predictions = model_r.predict(perturbed_image[np.newaxis, ...])\n",
        "\n",
        "    # Get predicted label\n",
        "    predicted_label = np.argmax(predictions[0])\n",
        "\n",
        "    # Compare with true label\n",
        "    true_label = np.reshape(training_labels[random_index], (1,))[0]\n",
        "    if predicted_label == true_label:\n",
        "        num_correct += 1\n",
        "\n",
        "accuracy = num_correct / 100\n",
        "print(\"Accuracy: {:.2%}\".format(accuracy))"
      ]
    }
  ],
  "metadata": {
    "accelerator": "GPU",
    "colab": {
      "gpuType": "T4",
      "machine_shape": "hm",
      "provenance": []
    },
    "kernelspec": {
      "argv": [
        "/gnu/store/l6fpy0i9hlll9b6k8vy2i2a4cshwz3cv-python-wrapper-3.10.7/bin/python",
        "-m",
        "ipykernel_launcher",
        "-f",
        "{connection_file}"
      ],
      "display_name": "Python 3 (ipykernel)",
      "env": null,
      "interrupt_mode": "signal",
      "language": "python",
      "metadata": {
        "debugger": true
      },
      "name": "python3"
    },
    "language_info": {
      "codemirror_mode": {
        "name": "ipython",
        "version": 3
      },
      "file_extension": ".py",
      "mimetype": "text/x-python",
      "name": "python",
      "nbconvert_exporter": "python",
      "pygments_lexer": "ipython3",
      "version": "3.9.12"
    },
    "name": "Experiments_part_1.ipynb"
  },
  "nbformat": 4,
  "nbformat_minor": 0
}