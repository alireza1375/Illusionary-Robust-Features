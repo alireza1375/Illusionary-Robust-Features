{
  "cells": [
    {
      "cell_type": "markdown",
      "metadata": {
        "collapsed": false,
        "id": "40156cc0-149c-4dbe-bc0c-96f4e8bd89ab"
      },
      "source": [
        "The first Part of the codes are exactly similar to \"robustness_of_robust_standard_models_pgd.ipynb\"."
      ]
    },
    {
      "cell_type": "markdown",
      "metadata": {
        "collapsed": false,
        "id": "a20b4ca1-6095-4dcb-b5eb-2f12a47f29c1"
      },
      "source": [
        "Generation"
      ]
    },
    {
      "cell_type": "markdown",
      "metadata": {
        "collapsed": false,
        "id": "bf915c4a-ba0d-4822-9eb0-cf6c1e73f017"
      },
      "source": [
        "In this part the images have been perturbed with using the PGD attack against the robust model.\n",
        "We save the perturbed labels in order to use them later to detect illusionary robust features."
      ]
    },
    {
      "cell_type": "code",
      "source": [
        "# Initialize empty lists for parts\n",
        "all_predictions_parts = []\n",
        "all_labels_parts = []\n",
        "\n",
        "for i in range(len(training_images1)):\n",
        "    original_image = training_images1[i]\n",
        "    original_label = training_labels1[i]\n",
        "\n",
        "    preprocessed_image = preprocess_image_input(original_image)\n",
        "    reshaped_image = np.reshape(preprocessed_image, (1, 32, 32, 3))\n",
        "\n",
        "    perturbed_image = pgd_attack(reshaped_image, model_r, epsilon, num_steps, step_size)\n",
        "    perturbed_image = np.squeeze(perturbed_image, axis=0)\n",
        "\n",
        "    # Make predictions\n",
        "    predictions = model.predict(perturbed_image)\n",
        "    predicted_label = np.argmax(predictions[0])\n",
        "\n",
        "    if predicted_label == original_label:\n",
        "        num_correct += 1\n",
        "\n",
        "    # Append predictions and labels to respective parts\n",
        "    all_predictions_parts.append(predictions)\n",
        "    all_labels_parts.append(predicted_label)\n",
        "\n",
        "    # Save parts after every 'n' images\n",
        "    if (i + 1) % (len(training_images1) // num_parts) == 0 or i == len(training_images1) - 1:\n",
        "        part_number = (i + 1) // (len(training_images1) // num_parts)\n",
        "        np.save(f\"predictions_part{part_number}.npy\", np.array(all_predictions_parts))\n",
        "        np.save(f\"labels_part{part_number}.npy\", np.array(all_labels_parts))\n",
        "        # Clear the lists for next part\n",
        "        all_predictions_parts = []\n",
        "        all_labels_parts = []\n"
      ],
      "metadata": {
        "id": "VZbue5O0T0B5"
      },
      "execution_count": null,
      "outputs": []
    }
  ],
  "metadata": {
    "accelerator": "GPU",
    "colab": {
      "gpuType": "T4",
      "machine_shape": "hm",
      "provenance": []
    },
    "kernelspec": {
      "argv": [
        "/gnu/store/l6fpy0i9hlll9b6k8vy2i2a4cshwz3cv-python-wrapper-3.10.7/bin/python",
        "-m",
        "ipykernel_launcher",
        "-f",
        "{connection_file}"
      ],
      "display_name": "Python 3 (ipykernel)",
      "env": null,
      "interrupt_mode": "signal",
      "language": "python",
      "metadata": {
        "debugger": true
      },
      "name": "python3"
    },
    "language_info": {
      "codemirror_mode": {
        "name": "ipython",
        "version": 3
      },
      "file_extension": ".py",
      "mimetype": "text/x-python",
      "name": "python",
      "nbconvert_exporter": "python",
      "pygments_lexer": "ipython3",
      "version": "3.9.12"
    },
    "name": "Experiments_part_2.ipynb"
  },
  "nbformat": 4,
  "nbformat_minor": 0
}